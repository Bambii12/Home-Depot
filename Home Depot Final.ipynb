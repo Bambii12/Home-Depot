{
 "cells": [
  {
   "cell_type": "code",
   "execution_count": 1,
   "id": "f5ccfa81",
   "metadata": {},
   "outputs": [
    {
     "name": "stderr",
     "output_type": "stream",
     "text": [
      "[nltk_data] Downloading package punkt to\n",
      "[nltk_data]     /Users/ivanradosavljevic/nltk_data...\n",
      "[nltk_data]   Package punkt is already up-to-date!\n"
     ]
    }
   ],
   "source": [
    "import pandas as pd\n",
    "import numpy as np\n",
    "import matplotlib.pyplot as plt\n",
    "import seaborn as sns\n",
    "import nltk\n",
    "nltk.download('punkt')\n",
    "import re\n",
    "from collections import Counter"
   ]
  },
  {
   "cell_type": "code",
   "execution_count": 54,
   "id": "4fbf8700",
   "metadata": {},
   "outputs": [],
   "source": [
    "train = pd.read_csv(\"/Users/ivanradosavljevic/Documents/ML/train.csv\")\n",
    "test = pd.read_csv(\"/Users/ivanradosavljevic/Documents/ML/test.csv\")\n",
    "attributes = pd.read_csv(\"/Users/ivanradosavljevic/Documents/ML/attributes.csv\")\n",
    "descriptions = pd.read_csv(\"/Users/ivanradosavljevic/Documents/ML/product_descriptions.csv\")"
   ]
  },
  {
   "cell_type": "code",
   "execution_count": 3,
   "id": "1af114d8",
   "metadata": {},
   "outputs": [
    {
     "data": {
      "text/html": [
       "<div>\n",
       "<style scoped>\n",
       "    .dataframe tbody tr th:only-of-type {\n",
       "        vertical-align: middle;\n",
       "    }\n",
       "\n",
       "    .dataframe tbody tr th {\n",
       "        vertical-align: top;\n",
       "    }\n",
       "\n",
       "    .dataframe thead th {\n",
       "        text-align: right;\n",
       "    }\n",
       "</style>\n",
       "<table border=\"1\" class=\"dataframe\">\n",
       "  <thead>\n",
       "    <tr style=\"text-align: right;\">\n",
       "      <th></th>\n",
       "      <th>id</th>\n",
       "      <th>product_uid</th>\n",
       "      <th>product_title</th>\n",
       "      <th>search_term</th>\n",
       "      <th>relevance</th>\n",
       "    </tr>\n",
       "  </thead>\n",
       "  <tbody>\n",
       "    <tr>\n",
       "      <th>0</th>\n",
       "      <td>2</td>\n",
       "      <td>100001</td>\n",
       "      <td>Simpson Strong-Tie 12-Gauge Angle</td>\n",
       "      <td>angle bracket</td>\n",
       "      <td>3.00</td>\n",
       "    </tr>\n",
       "    <tr>\n",
       "      <th>1</th>\n",
       "      <td>3</td>\n",
       "      <td>100001</td>\n",
       "      <td>Simpson Strong-Tie 12-Gauge Angle</td>\n",
       "      <td>l bracket</td>\n",
       "      <td>2.50</td>\n",
       "    </tr>\n",
       "    <tr>\n",
       "      <th>2</th>\n",
       "      <td>9</td>\n",
       "      <td>100002</td>\n",
       "      <td>BEHR Premium Textured DeckOver 1-gal. #SC-141 ...</td>\n",
       "      <td>deck over</td>\n",
       "      <td>3.00</td>\n",
       "    </tr>\n",
       "    <tr>\n",
       "      <th>3</th>\n",
       "      <td>16</td>\n",
       "      <td>100005</td>\n",
       "      <td>Delta Vero 1-Handle Shower Only Faucet Trim Ki...</td>\n",
       "      <td>rain shower head</td>\n",
       "      <td>2.33</td>\n",
       "    </tr>\n",
       "    <tr>\n",
       "      <th>4</th>\n",
       "      <td>17</td>\n",
       "      <td>100005</td>\n",
       "      <td>Delta Vero 1-Handle Shower Only Faucet Trim Ki...</td>\n",
       "      <td>shower only faucet</td>\n",
       "      <td>2.67</td>\n",
       "    </tr>\n",
       "  </tbody>\n",
       "</table>\n",
       "</div>"
      ],
      "text/plain": [
       "   id  product_uid                                      product_title  \\\n",
       "0   2       100001                  Simpson Strong-Tie 12-Gauge Angle   \n",
       "1   3       100001                  Simpson Strong-Tie 12-Gauge Angle   \n",
       "2   9       100002  BEHR Premium Textured DeckOver 1-gal. #SC-141 ...   \n",
       "3  16       100005  Delta Vero 1-Handle Shower Only Faucet Trim Ki...   \n",
       "4  17       100005  Delta Vero 1-Handle Shower Only Faucet Trim Ki...   \n",
       "\n",
       "          search_term  relevance  \n",
       "0       angle bracket       3.00  \n",
       "1           l bracket       2.50  \n",
       "2           deck over       3.00  \n",
       "3    rain shower head       2.33  \n",
       "4  shower only faucet       2.67  "
      ]
     },
     "execution_count": 3,
     "metadata": {},
     "output_type": "execute_result"
    }
   ],
   "source": [
    "train.head()"
   ]
  },
  {
   "cell_type": "code",
   "execution_count": 4,
   "id": "8a1cc69b",
   "metadata": {},
   "outputs": [
    {
     "name": "stdout",
     "output_type": "stream",
     "text": [
      "<class 'pandas.core.frame.DataFrame'>\n",
      "RangeIndex: 74067 entries, 0 to 74066\n",
      "Data columns (total 5 columns):\n",
      " #   Column         Non-Null Count  Dtype  \n",
      "---  ------         --------------  -----  \n",
      " 0   id             74067 non-null  int64  \n",
      " 1   product_uid    74067 non-null  int64  \n",
      " 2   product_title  74067 non-null  object \n",
      " 3   search_term    74067 non-null  object \n",
      " 4   relevance      74067 non-null  float64\n",
      "dtypes: float64(1), int64(2), object(2)\n",
      "memory usage: 2.8+ MB\n"
     ]
    }
   ],
   "source": [
    "train.info()"
   ]
  },
  {
   "cell_type": "code",
   "execution_count": 5,
   "id": "6fc083a9",
   "metadata": {},
   "outputs": [
    {
     "name": "stdout",
     "output_type": "stream",
     "text": [
      "<class 'pandas.core.frame.DataFrame'>\n",
      "RangeIndex: 166693 entries, 0 to 166692\n",
      "Data columns (total 4 columns):\n",
      " #   Column         Non-Null Count   Dtype \n",
      "---  ------         --------------   ----- \n",
      " 0   id             166693 non-null  int64 \n",
      " 1   product_uid    166693 non-null  int64 \n",
      " 2   product_title  166693 non-null  object\n",
      " 3   search_term    166693 non-null  object\n",
      "dtypes: int64(2), object(2)\n",
      "memory usage: 5.1+ MB\n"
     ]
    }
   ],
   "source": [
    "test.info()"
   ]
  },
  {
   "cell_type": "code",
   "execution_count": 6,
   "id": "2a241743",
   "metadata": {},
   "outputs": [
    {
     "data": {
      "text/plain": [
       "id               0\n",
       "product_uid      0\n",
       "product_title    0\n",
       "search_term      0\n",
       "relevance        0\n",
       "dtype: int64"
      ]
     },
     "execution_count": 6,
     "metadata": {},
     "output_type": "execute_result"
    }
   ],
   "source": [
    "train.isna().sum()"
   ]
  },
  {
   "cell_type": "code",
   "execution_count": 7,
   "id": "b6ccbb6f",
   "metadata": {},
   "outputs": [
    {
     "data": {
      "text/plain": [
       "id               0\n",
       "product_uid      0\n",
       "product_title    0\n",
       "search_term      0\n",
       "dtype: int64"
      ]
     },
     "execution_count": 7,
     "metadata": {},
     "output_type": "execute_result"
    }
   ],
   "source": [
    "test.isna().sum()"
   ]
  },
  {
   "cell_type": "code",
   "execution_count": 8,
   "id": "834aa37f",
   "metadata": {},
   "outputs": [
    {
     "data": {
      "text/plain": [
       "3.00    19125\n",
       "2.33    16060\n",
       "2.67    15202\n",
       "2.00    11730\n",
       "1.67     6780\n",
       "1.33     3006\n",
       "1.00     2105\n",
       "2.50       19\n",
       "2.25       11\n",
       "2.75       11\n",
       "1.75        9\n",
       "1.50        5\n",
       "1.25        4\n",
       "Name: relevance, dtype: int64"
      ]
     },
     "execution_count": 8,
     "metadata": {},
     "output_type": "execute_result"
    }
   ],
   "source": [
    "train.relevance.value_counts()"
   ]
  },
  {
   "cell_type": "code",
   "execution_count": 9,
   "id": "98b6c113",
   "metadata": {},
   "outputs": [],
   "source": [
    "(unique, counts) = np.unique(train['relevance'], return_counts=True)"
   ]
  },
  {
   "cell_type": "code",
   "execution_count": 10,
   "id": "c1d4f93e",
   "metadata": {},
   "outputs": [
    {
     "data": {
      "image/png": "[encoded data removed]",
      "text/plain": [
       "<Figure size 432x288 with 1 Axes>"
      ]
     },
     "metadata": {
      "needs_background": "light"
     },
     "output_type": "display_data"
    }
   ],
   "source": [
    "fig = plt.figure()\n",
    "ax = fig.add_axes([0,0,1,1])\n",
    "ax.bar(unique, counts, width = 0.1)\n",
    "ax.set_xlabel('Relevance')\n",
    "ax.set_ylabel('Frequency')\n",
    "ax.set_title('Frequency by Relevance')\n",
    "plt.show()"
   ]
  },
  {
   "cell_type": "code",
   "execution_count": 11,
   "id": "b59273e6",
   "metadata": {},
   "outputs": [],
   "source": [
    "pidTrain = np.unique(train['product_uid'])\n",
    "pidTest = np.unique(test['product_uid'])\n",
    "pidAttributes = np.unique(attributes['product_uid'])\n",
    "pidDescriptions = np.unique(descriptions['product_uid'])"
   ]
  },
  {
   "cell_type": "code",
   "execution_count": 12,
   "id": "e9cd6a1e",
   "metadata": {},
   "outputs": [
    {
     "data": {
      "text/plain": [
       "54667"
      ]
     },
     "execution_count": 12,
     "metadata": {},
     "output_type": "execute_result"
    }
   ],
   "source": [
    "len(pidTrain)"
   ]
  },
  {
   "cell_type": "code",
   "execution_count": 13,
   "id": "e81b4aa4",
   "metadata": {},
   "outputs": [
    {
     "data": {
      "text/plain": [
       "97460"
      ]
     },
     "execution_count": 13,
     "metadata": {},
     "output_type": "execute_result"
    }
   ],
   "source": [
    "len(pidTest)"
   ]
  },
  {
   "cell_type": "code",
   "execution_count": 14,
   "id": "ad5e04a4",
   "metadata": {},
   "outputs": [],
   "source": [
    "# get pids that exist in both sets\n",
    "intersection = list(set(pidTest) & set(pidTrain))"
   ]
  },
  {
   "cell_type": "code",
   "execution_count": 15,
   "id": "7f19abc3",
   "metadata": {},
   "outputs": [
    {
     "data": {
      "text/plain": [
       "124428"
      ]
     },
     "execution_count": 15,
     "metadata": {},
     "output_type": "execute_result"
    }
   ],
   "source": [
    "# get unique pids in train and test sets\n",
    "len(pidTest) + len(pidTrain) - len(intersection)"
   ]
  },
  {
   "cell_type": "code",
   "execution_count": 16,
   "id": "f75435af",
   "metadata": {},
   "outputs": [
    {
     "data": {
      "text/plain": [
       "124428"
      ]
     },
     "execution_count": 16,
     "metadata": {},
     "output_type": "execute_result"
    }
   ],
   "source": [
    "len(pidDescriptions)"
   ]
  },
  {
   "cell_type": "code",
   "execution_count": 17,
   "id": "d92bd366",
   "metadata": {},
   "outputs": [
    {
     "data": {
      "text/plain": [
       "True"
      ]
     },
     "execution_count": 17,
     "metadata": {},
     "output_type": "execute_result"
    }
   ],
   "source": [
    "# check do we have same pids in descriptions file like we have in train and test file\n",
    "(set(pidTrain) <= set(pidDescriptions)) & (set(pidTest) <= set(pidDescriptions))"
   ]
  },
  {
   "cell_type": "code",
   "execution_count": 55,
   "id": "ec85c468",
   "metadata": {},
   "outputs": [],
   "source": [
    "train = pd.merge(train, descriptions, on='product_uid')"
   ]
  },
  {
   "cell_type": "code",
   "execution_count": 56,
   "id": "50bcd503",
   "metadata": {},
   "outputs": [],
   "source": [
    "test = pd.merge(test, descriptions, on='product_uid')"
   ]
  },
  {
   "cell_type": "code",
   "execution_count": 20,
   "id": "d71f9dea",
   "metadata": {},
   "outputs": [
    {
     "data": {
      "text/plain": [
       "86418"
      ]
     },
     "execution_count": 20,
     "metadata": {},
     "output_type": "execute_result"
    }
   ],
   "source": [
    "len(pidAttributes)"
   ]
  },
  {
   "cell_type": "code",
   "execution_count": 21,
   "id": "5183b944",
   "metadata": {},
   "outputs": [
    {
     "data": {
      "text/plain": [
       "False"
      ]
     },
     "execution_count": 21,
     "metadata": {},
     "output_type": "execute_result"
    }
   ],
   "source": [
    "set(pidTrain) <= set(pidAttributes)"
   ]
  },
  {
   "cell_type": "code",
   "execution_count": 22,
   "id": "b0aaaf64",
   "metadata": {},
   "outputs": [],
   "source": [
    "joined = np.unique([*pidTrain, *pidTest])"
   ]
  },
  {
   "cell_type": "code",
   "execution_count": 23,
   "id": "d1724b33",
   "metadata": {},
   "outputs": [
    {
     "data": {
      "text/plain": [
       "155"
      ]
     },
     "execution_count": 23,
     "metadata": {},
     "output_type": "execute_result"
    }
   ],
   "source": [
    "len(list(set(pidAttributes) - set(joined)))"
   ]
  },
  {
   "cell_type": "code",
   "execution_count": 24,
   "id": "c2672445",
   "metadata": {},
   "outputs": [
    {
     "data": {
      "text/plain": [
       "product_uid     155\n",
       "name            155\n",
       "value          2284\n",
       "dtype: int64"
      ]
     },
     "execution_count": 24,
     "metadata": {},
     "output_type": "execute_result"
    }
   ],
   "source": [
    "attributes.isna().sum()"
   ]
  },
  {
   "cell_type": "code",
   "execution_count": 25,
   "id": "6cd21887",
   "metadata": {},
   "outputs": [],
   "source": [
    "attributes.dropna(inplace=True)"
   ]
  },
  {
   "cell_type": "code",
   "execution_count": 26,
   "id": "addea4e5",
   "metadata": {},
   "outputs": [
    {
     "data": {
      "text/plain": [
       "3 WAY TOGGLE SWITCH                            16\n",
       "anderson windows 400 seriesimpact resistant    16\n",
       "1/2 zip wall                                   16\n",
       "contact paoer                                  16\n",
       "everblit heavy duty canvas dropcloth           16\n",
       "moen chat oil bronze tub/shower faucet         16\n",
       "metal sheet                                    16\n",
       "burgundy red foot stools                       16\n",
       "bed frames headboaed                           16\n",
       "wrt111sfdb ice maker                           15\n",
       "Name: search_term, dtype: int64"
      ]
     },
     "execution_count": 26,
     "metadata": {},
     "output_type": "execute_result"
    }
   ],
   "source": [
    "train['search_term'].value_counts()[:10]"
   ]
  },
  {
   "cell_type": "code",
   "execution_count": 27,
   "id": "6ed3d3e9",
   "metadata": {},
   "outputs": [
    {
     "data": {
      "text/plain": [
       "patio chair cushions    36\n",
       "popcorn machine         23\n",
       "hatchet                 23\n",
       "dowel                   23\n",
       "led shop light          23\n",
       "bathroom cabinet        23\n",
       "pocket door hardware    23\n",
       "t8 bulbs                23\n",
       "rebar                   23\n",
       "glass sheet             23\n",
       "Name: search_term, dtype: int64"
      ]
     },
     "execution_count": 27,
     "metadata": {},
     "output_type": "execute_result"
    }
   ],
   "source": [
    "test['search_term'].value_counts()[:10]"
   ]
  },
  {
   "cell_type": "code",
   "execution_count": 28,
   "id": "54ae2c3a",
   "metadata": {},
   "outputs": [
    {
     "data": {
      "text/html": [
       "<div>\n",
       "<style scoped>\n",
       "    .dataframe tbody tr th:only-of-type {\n",
       "        vertical-align: middle;\n",
       "    }\n",
       "\n",
       "    .dataframe tbody tr th {\n",
       "        vertical-align: top;\n",
       "    }\n",
       "\n",
       "    .dataframe thead th {\n",
       "        text-align: right;\n",
       "    }\n",
       "</style>\n",
       "<table border=\"1\" class=\"dataframe\">\n",
       "  <thead>\n",
       "    <tr style=\"text-align: right;\">\n",
       "      <th></th>\n",
       "      <th>id</th>\n",
       "      <th>product_uid</th>\n",
       "      <th>product_title</th>\n",
       "      <th>search_term</th>\n",
       "      <th>relevance</th>\n",
       "      <th>product_description</th>\n",
       "    </tr>\n",
       "  </thead>\n",
       "  <tbody>\n",
       "    <tr>\n",
       "      <th>3393</th>\n",
       "      <td>10498</td>\n",
       "      <td>101813</td>\n",
       "      <td>Foremost Naples 26-1/2 in. W Wall Cabinet in W...</td>\n",
       "      <td>1/2 zip wall</td>\n",
       "      <td>2.67</td>\n",
       "      <td>Reflecting the subtle style of the Naples coll...</td>\n",
       "    </tr>\n",
       "    <tr>\n",
       "      <th>12611</th>\n",
       "      <td>38911</td>\n",
       "      <td>109192</td>\n",
       "      <td>Nuvelle Deco Planks Picket Fence Sun Baked 1/2...</td>\n",
       "      <td>1/2 zip wall</td>\n",
       "      <td>2.00</td>\n",
       "      <td>Real Wood Wall Planks that instantly transform...</td>\n",
       "    </tr>\n",
       "    <tr>\n",
       "      <th>13078</th>\n",
       "      <td>40399</td>\n",
       "      <td>109659</td>\n",
       "      <td>Merola Tile Metro Octagon Matte White with Dot...</td>\n",
       "      <td>1/2 zip wall</td>\n",
       "      <td>1.33</td>\n",
       "      <td>The Merola Tile Metro Octagon Matte White with...</td>\n",
       "    </tr>\n",
       "    <tr>\n",
       "      <th>34934</th>\n",
       "      <td>106850</td>\n",
       "      <td>134417</td>\n",
       "      <td>7/16 In. 4 Ft. x 8 Ft. Huber Zip OSB Wall Shea...</td>\n",
       "      <td>1/2 zip wall</td>\n",
       "      <td>2.00</td>\n",
       "      <td>It's a one-of-a-kind structural roof and wall ...</td>\n",
       "    </tr>\n",
       "    <tr>\n",
       "      <th>36036</th>\n",
       "      <td>110150</td>\n",
       "      <td>135914</td>\n",
       "      <td>Foremost Gazette 23-1/2 in. W x 32 in. H Wall ...</td>\n",
       "      <td>1/2 zip wall</td>\n",
       "      <td>2.00</td>\n",
       "      <td>The beautiful Gazette 23 1/2 in. x 32 in., bev...</td>\n",
       "    </tr>\n",
       "    <tr>\n",
       "      <th>36930</th>\n",
       "      <td>112914</td>\n",
       "      <td>137194</td>\n",
       "      <td>Merola Tile Metro Hex 2 in. Matte White 10-1/2...</td>\n",
       "      <td>1/2 zip wall</td>\n",
       "      <td>2.00</td>\n",
       "      <td>This Merola Tile Metro Hex 2 in. Matte White 1...</td>\n",
       "    </tr>\n",
       "    <tr>\n",
       "      <th>37987</th>\n",
       "      <td>116094</td>\n",
       "      <td>138631</td>\n",
       "      <td>Foremost Ashburn 23-1/2 in. W Wall Cabinet in ...</td>\n",
       "      <td>1/2 zip wall</td>\n",
       "      <td>1.00</td>\n",
       "      <td>Exquisite design, rich mahogany finish and sma...</td>\n",
       "    </tr>\n",
       "    <tr>\n",
       "      <th>51094</th>\n",
       "      <td>155181</td>\n",
       "      <td>159012</td>\n",
       "      <td>MS International Dove Gray Arabesque 10-1/2 in...</td>\n",
       "      <td>1/2 zip wall</td>\n",
       "      <td>3.00</td>\n",
       "      <td>With the MS International 10-1/2 in. x 15-1/2 ...</td>\n",
       "    </tr>\n",
       "    <tr>\n",
       "      <th>51390</th>\n",
       "      <td>156077</td>\n",
       "      <td>159515</td>\n",
       "      <td>Martha Stewart Living Placid 26-1/2 in. x 23-1...</td>\n",
       "      <td>1/2 zip wall</td>\n",
       "      <td>1.00</td>\n",
       "      <td>Add simple classic style to your room with the...</td>\n",
       "    </tr>\n",
       "    <tr>\n",
       "      <th>54376</th>\n",
       "      <td>164858</td>\n",
       "      <td>164781</td>\n",
       "      <td>Merola Tile Metro Penny Matte Light Green 9-7/...</td>\n",
       "      <td>1/2 zip wall</td>\n",
       "      <td>1.67</td>\n",
       "      <td>The Merola Tile Metro Penny Matte Light Green ...</td>\n",
       "    </tr>\n",
       "    <tr>\n",
       "      <th>54399</th>\n",
       "      <td>164917</td>\n",
       "      <td>164818</td>\n",
       "      <td>Southern Enterprises 48-1/4 in. x 14-1/2 in. F...</td>\n",
       "      <td>1/2 zip wall</td>\n",
       "      <td>2.00</td>\n",
       "      <td>The Southern Enterprises 48-1/4 in. x 14-1/2 i...</td>\n",
       "    </tr>\n",
       "    <tr>\n",
       "      <th>58609</th>\n",
       "      <td>177088</td>\n",
       "      <td>172569</td>\n",
       "      <td>Foremost Gazette 23-1/2 in. W Wall Cabinet wit...</td>\n",
       "      <td>1/2 zip wall</td>\n",
       "      <td>2.00</td>\n",
       "      <td>Offering an alluring blend of traditional and ...</td>\n",
       "    </tr>\n",
       "    <tr>\n",
       "      <th>59656</th>\n",
       "      <td>180238</td>\n",
       "      <td>174669</td>\n",
       "      <td>Foremost Gazette 23-1/2 in. W Wall Cabinet in ...</td>\n",
       "      <td>1/2 zip wall</td>\n",
       "      <td>2.00</td>\n",
       "      <td>This 23-1/2 in. hanging wall cabinet, from the...</td>\n",
       "    </tr>\n",
       "    <tr>\n",
       "      <th>60188</th>\n",
       "      <td>181688</td>\n",
       "      <td>175704</td>\n",
       "      <td>Stair Parts 2-1/2 in. x 3-1/8 in. Black Steel ...</td>\n",
       "      <td>1/2 zip wall</td>\n",
       "      <td>1.33</td>\n",
       "      <td>The Surewood-LNL 2-1/2 in. x 3-1/8 in. Black S...</td>\n",
       "    </tr>\n",
       "    <tr>\n",
       "      <th>63675</th>\n",
       "      <td>191893</td>\n",
       "      <td>182917</td>\n",
       "      <td>Daltile Concrete Connection Steel Structure 6-...</td>\n",
       "      <td>1/2 zip wall</td>\n",
       "      <td>1.33</td>\n",
       "      <td>Featuring frost-resistant construction, the da...</td>\n",
       "    </tr>\n",
       "    <tr>\n",
       "      <th>69249</th>\n",
       "      <td>207694</td>\n",
       "      <td>195095</td>\n",
       "      <td>Cerise 36-1/4 in. x 36-1/4 in. x 78-1/2 in. 2-...</td>\n",
       "      <td>1/2 zip wall</td>\n",
       "      <td>1.33</td>\n",
       "      <td>This Cerise 2-piece Shower Wall is a stylish a...</td>\n",
       "    </tr>\n",
       "  </tbody>\n",
       "</table>\n",
       "</div>"
      ],
      "text/plain": [
       "           id  product_uid                                      product_title  \\\n",
       "3393    10498       101813  Foremost Naples 26-1/2 in. W Wall Cabinet in W...   \n",
       "12611   38911       109192  Nuvelle Deco Planks Picket Fence Sun Baked 1/2...   \n",
       "13078   40399       109659  Merola Tile Metro Octagon Matte White with Dot...   \n",
       "34934  106850       134417  7/16 In. 4 Ft. x 8 Ft. Huber Zip OSB Wall Shea...   \n",
       "36036  110150       135914  Foremost Gazette 23-1/2 in. W x 32 in. H Wall ...   \n",
       "36930  112914       137194  Merola Tile Metro Hex 2 in. Matte White 10-1/2...   \n",
       "37987  116094       138631  Foremost Ashburn 23-1/2 in. W Wall Cabinet in ...   \n",
       "51094  155181       159012  MS International Dove Gray Arabesque 10-1/2 in...   \n",
       "51390  156077       159515  Martha Stewart Living Placid 26-1/2 in. x 23-1...   \n",
       "54376  164858       164781  Merola Tile Metro Penny Matte Light Green 9-7/...   \n",
       "54399  164917       164818  Southern Enterprises 48-1/4 in. x 14-1/2 in. F...   \n",
       "58609  177088       172569  Foremost Gazette 23-1/2 in. W Wall Cabinet wit...   \n",
       "59656  180238       174669  Foremost Gazette 23-1/2 in. W Wall Cabinet in ...   \n",
       "60188  181688       175704  Stair Parts 2-1/2 in. x 3-1/8 in. Black Steel ...   \n",
       "63675  191893       182917  Daltile Concrete Connection Steel Structure 6-...   \n",
       "69249  207694       195095  Cerise 36-1/4 in. x 36-1/4 in. x 78-1/2 in. 2-...   \n",
       "\n",
       "        search_term  relevance  \\\n",
       "3393   1/2 zip wall       2.67   \n",
       "12611  1/2 zip wall       2.00   \n",
       "13078  1/2 zip wall       1.33   \n",
       "34934  1/2 zip wall       2.00   \n",
       "36036  1/2 zip wall       2.00   \n",
       "36930  1/2 zip wall       2.00   \n",
       "37987  1/2 zip wall       1.00   \n",
       "51094  1/2 zip wall       3.00   \n",
       "51390  1/2 zip wall       1.00   \n",
       "54376  1/2 zip wall       1.67   \n",
       "54399  1/2 zip wall       2.00   \n",
       "58609  1/2 zip wall       2.00   \n",
       "59656  1/2 zip wall       2.00   \n",
       "60188  1/2 zip wall       1.33   \n",
       "63675  1/2 zip wall       1.33   \n",
       "69249  1/2 zip wall       1.33   \n",
       "\n",
       "                                     product_description  \n",
       "3393   Reflecting the subtle style of the Naples coll...  \n",
       "12611  Real Wood Wall Planks that instantly transform...  \n",
       "13078  The Merola Tile Metro Octagon Matte White with...  \n",
       "34934  It's a one-of-a-kind structural roof and wall ...  \n",
       "36036  The beautiful Gazette 23 1/2 in. x 32 in., bev...  \n",
       "36930  This Merola Tile Metro Hex 2 in. Matte White 1...  \n",
       "37987  Exquisite design, rich mahogany finish and sma...  \n",
       "51094  With the MS International 10-1/2 in. x 15-1/2 ...  \n",
       "51390  Add simple classic style to your room with the...  \n",
       "54376  The Merola Tile Metro Penny Matte Light Green ...  \n",
       "54399  The Southern Enterprises 48-1/4 in. x 14-1/2 i...  \n",
       "58609  Offering an alluring blend of traditional and ...  \n",
       "59656  This 23-1/2 in. hanging wall cabinet, from the...  \n",
       "60188  The Surewood-LNL 2-1/2 in. x 3-1/8 in. Black S...  \n",
       "63675  Featuring frost-resistant construction, the da...  \n",
       "69249  This Cerise 2-piece Shower Wall is a stylish a...  "
      ]
     },
     "execution_count": 28,
     "metadata": {},
     "output_type": "execute_result"
    }
   ],
   "source": [
    "train.loc[train['search_term'] == '1/2 zip wall']"
   ]
  },
  {
   "cell_type": "code",
   "execution_count": 29,
   "id": "8b28c8fb",
   "metadata": {},
   "outputs": [
    {
     "data": {
      "text/plain": [
       "Pressure-Treated Timber #2 Southern Yellow Pine (Common: 4 in. x 4 in. x 8 ft.; Actual: 3.56 in. x 3.56 in. x 96 in.)    21\n",
       "Lithonia Lighting All Season 4 ft. 2-Light Grey T8 Strip Fluorescent Shop Light                                          21\n",
       "2 in. x 4 in. x 96 in. Premium Kiln-Dried Whitewood Stud                                                                 18\n",
       "Ryobi ONE+ 18-Volt Lithium-Ion Ultimate Combo Kit (6-Tool)                                                               17\n",
       "Custom Building Products VersaBond Gray 50 lb. Fortified Thin-Set Mortar                                                 17\n",
       "Ryobi ONE+ 18-Volt Lithium-Ion Cordless Drill/Driver and Impact Driver Kit (2-Tool)                                      17\n",
       "Whirlpool Gold Series Top Control Dishwasher in Monochromatic Stainless Steel with Silverware Spray                      15\n",
       "Owens Corning R-30 Unfaced Insulation Continuous Roll 15 in. x 25 ft.                                                    14\n",
       "Ryobi 18-Volt ONE+ High Capacity LITHIUM+ Battery (2-Pack)                                                               14\n",
       "Honeywell 1 in. Allergen Elite Pleated FPR 10 Air Filter - Custom Sizes Available                                        14\n",
       "Name: product_title, dtype: int64"
      ]
     },
     "execution_count": 29,
     "metadata": {},
     "output_type": "execute_result"
    }
   ],
   "source": [
    "train['product_title'].value_counts()[:10]"
   ]
  },
  {
   "cell_type": "code",
   "execution_count": 30,
   "id": "a1b3175b",
   "metadata": {},
   "outputs": [
    {
     "data": {
      "text/plain": [
       "2 in. x 4 in. x 96 in. Premium Kiln-Dried Whitewood Stud                                               52\n",
       "Whirlpool 1.7 cu. ft. Over the Range Microwave in Stainless Steel                                      35\n",
       "2 in. x 4 in. x 8 ft. #2 Pressure-Treated Lumber                                                       35\n",
       "Samsung 25.5 cu. ft. French Door Refrigerator in Stainless Steel                                       35\n",
       "LG Electronics 7,500 BTU 115-Volt Window Air Conditioner with Cool, Heat and Remote                    33\n",
       "SmartSide 48 in. x 96 in. Composite Panel Siding (Actual: 0.315 in. x 48.56 in. x 95.87 in.)           31\n",
       "Custom Building Products VersaBond Gray 50 lb. Fortified Thin-Set Mortar                               31\n",
       "Oriented Strand Board (Common: 7/16 in. x 4 ft. x 8 ft.; Actual: 0.418 in. x 47.75 in. x 95.75 in.)    30\n",
       "Honeywell 1 in. Allergen Plus Pleated FPR 7 Air Filter - Custom Sizes Available                        28\n",
       "Ryobi ONE+ 18-Volt Lithium-Ion Cordless Super Combo Kit (4-Piece)                                      27\n",
       "Name: product_title, dtype: int64"
      ]
     },
     "execution_count": 30,
     "metadata": {},
     "output_type": "execute_result"
    }
   ],
   "source": [
    "test['product_title'].value_counts()[:10]"
   ]
  },
  {
   "cell_type": "code",
   "execution_count": 31,
   "id": "83dcf9a6",
   "metadata": {},
   "outputs": [
    {
     "data": {
      "text/html": [
       "<div>\n",
       "<style scoped>\n",
       "    .dataframe tbody tr th:only-of-type {\n",
       "        vertical-align: middle;\n",
       "    }\n",
       "\n",
       "    .dataframe tbody tr th {\n",
       "        vertical-align: top;\n",
       "    }\n",
       "\n",
       "    .dataframe thead th {\n",
       "        text-align: right;\n",
       "    }\n",
       "</style>\n",
       "<table border=\"1\" class=\"dataframe\">\n",
       "  <thead>\n",
       "    <tr style=\"text-align: right;\">\n",
       "      <th></th>\n",
       "      <th>id</th>\n",
       "      <th>product_uid</th>\n",
       "      <th>product_title</th>\n",
       "      <th>search_term</th>\n",
       "      <th>relevance</th>\n",
       "      <th>product_description</th>\n",
       "    </tr>\n",
       "  </thead>\n",
       "  <tbody>\n",
       "    <tr>\n",
       "      <th>5221</th>\n",
       "      <td>16352</td>\n",
       "      <td>102893</td>\n",
       "      <td>Lithonia Lighting All Season 4 ft. 2-Light Gre...</td>\n",
       "      <td>4 flourescent</td>\n",
       "      <td>2.33</td>\n",
       "      <td>The 4 ft. All Season shop light is ideal for g...</td>\n",
       "    </tr>\n",
       "    <tr>\n",
       "      <th>5222</th>\n",
       "      <td>16353</td>\n",
       "      <td>102893</td>\n",
       "      <td>Lithonia Lighting All Season 4 ft. 2-Light Gre...</td>\n",
       "      <td>4 led light</td>\n",
       "      <td>3.00</td>\n",
       "      <td>The 4 ft. All Season shop light is ideal for g...</td>\n",
       "    </tr>\n",
       "    <tr>\n",
       "      <th>5223</th>\n",
       "      <td>16356</td>\n",
       "      <td>102893</td>\n",
       "      <td>Lithonia Lighting All Season 4 ft. 2-Light Gre...</td>\n",
       "      <td>4ft light</td>\n",
       "      <td>3.00</td>\n",
       "      <td>The 4 ft. All Season shop light is ideal for g...</td>\n",
       "    </tr>\n",
       "    <tr>\n",
       "      <th>5224</th>\n",
       "      <td>16358</td>\n",
       "      <td>102893</td>\n",
       "      <td>Lithonia Lighting All Season 4 ft. 2-Light Gre...</td>\n",
       "      <td>8 light</td>\n",
       "      <td>2.33</td>\n",
       "      <td>The 4 ft. All Season shop light is ideal for g...</td>\n",
       "    </tr>\n",
       "    <tr>\n",
       "      <th>5225</th>\n",
       "      <td>16360</td>\n",
       "      <td>102893</td>\n",
       "      <td>Lithonia Lighting All Season 4 ft. 2-Light Gre...</td>\n",
       "      <td>cree led 32w t8</td>\n",
       "      <td>3.00</td>\n",
       "      <td>The 4 ft. All Season shop light is ideal for g...</td>\n",
       "    </tr>\n",
       "    <tr>\n",
       "      <th>5226</th>\n",
       "      <td>16361</td>\n",
       "      <td>102893</td>\n",
       "      <td>Lithonia Lighting All Season 4 ft. 2-Light Gre...</td>\n",
       "      <td>econo florecent bulb</td>\n",
       "      <td>2.33</td>\n",
       "      <td>The 4 ft. All Season shop light is ideal for g...</td>\n",
       "    </tr>\n",
       "    <tr>\n",
       "      <th>5227</th>\n",
       "      <td>16363</td>\n",
       "      <td>102893</td>\n",
       "      <td>Lithonia Lighting All Season 4 ft. 2-Light Gre...</td>\n",
       "      <td>florecent bulb holder</td>\n",
       "      <td>2.00</td>\n",
       "      <td>The 4 ft. All Season shop light is ideal for g...</td>\n",
       "    </tr>\n",
       "    <tr>\n",
       "      <th>5228</th>\n",
       "      <td>16364</td>\n",
       "      <td>102893</td>\n",
       "      <td>Lithonia Lighting All Season 4 ft. 2-Light Gre...</td>\n",
       "      <td>flourescent shop light</td>\n",
       "      <td>3.00</td>\n",
       "      <td>The 4 ft. All Season shop light is ideal for g...</td>\n",
       "    </tr>\n",
       "    <tr>\n",
       "      <th>5229</th>\n",
       "      <td>16365</td>\n",
       "      <td>102893</td>\n",
       "      <td>Lithonia Lighting All Season 4 ft. 2-Light Gre...</td>\n",
       "      <td>fluorescent fixture</td>\n",
       "      <td>2.33</td>\n",
       "      <td>The 4 ft. All Season shop light is ideal for g...</td>\n",
       "    </tr>\n",
       "    <tr>\n",
       "      <th>5230</th>\n",
       "      <td>16366</td>\n",
       "      <td>102893</td>\n",
       "      <td>Lithonia Lighting All Season 4 ft. 2-Light Gre...</td>\n",
       "      <td>Fluorescent light TUBES</td>\n",
       "      <td>3.00</td>\n",
       "      <td>The 4 ft. All Season shop light is ideal for g...</td>\n",
       "    </tr>\n",
       "    <tr>\n",
       "      <th>5231</th>\n",
       "      <td>16367</td>\n",
       "      <td>102893</td>\n",
       "      <td>Lithonia Lighting All Season 4 ft. 2-Light Gre...</td>\n",
       "      <td>Fluorescent Shop Light</td>\n",
       "      <td>3.00</td>\n",
       "      <td>The 4 ft. All Season shop light is ideal for g...</td>\n",
       "    </tr>\n",
       "    <tr>\n",
       "      <th>5232</th>\n",
       "      <td>16373</td>\n",
       "      <td>102893</td>\n",
       "      <td>Lithonia Lighting All Season 4 ft. 2-Light Gre...</td>\n",
       "      <td>light fictures</td>\n",
       "      <td>2.00</td>\n",
       "      <td>The 4 ft. All Season shop light is ideal for g...</td>\n",
       "    </tr>\n",
       "    <tr>\n",
       "      <th>5233</th>\n",
       "      <td>16374</td>\n",
       "      <td>102893</td>\n",
       "      <td>Lithonia Lighting All Season 4 ft. 2-Light Gre...</td>\n",
       "      <td>lihonia 4 led work light</td>\n",
       "      <td>2.67</td>\n",
       "      <td>The 4 ft. All Season shop light is ideal for g...</td>\n",
       "    </tr>\n",
       "    <tr>\n",
       "      <th>5234</th>\n",
       "      <td>16375</td>\n",
       "      <td>102893</td>\n",
       "      <td>Lithonia Lighting All Season 4 ft. 2-Light Gre...</td>\n",
       "      <td>Shop lights led</td>\n",
       "      <td>2.67</td>\n",
       "      <td>The 4 ft. All Season shop light is ideal for g...</td>\n",
       "    </tr>\n",
       "    <tr>\n",
       "      <th>5235</th>\n",
       "      <td>16376</td>\n",
       "      <td>102893</td>\n",
       "      <td>Lithonia Lighting All Season 4 ft. 2-Light Gre...</td>\n",
       "      <td>t 5 lights</td>\n",
       "      <td>2.33</td>\n",
       "      <td>The 4 ft. All Season shop light is ideal for g...</td>\n",
       "    </tr>\n",
       "    <tr>\n",
       "      <th>5236</th>\n",
       "      <td>16381</td>\n",
       "      <td>102893</td>\n",
       "      <td>Lithonia Lighting All Season 4 ft. 2-Light Gre...</td>\n",
       "      <td>t5 strip light fixture 36'</td>\n",
       "      <td>2.00</td>\n",
       "      <td>The 4 ft. All Season shop light is ideal for g...</td>\n",
       "    </tr>\n",
       "    <tr>\n",
       "      <th>5237</th>\n",
       "      <td>16382</td>\n",
       "      <td>102893</td>\n",
       "      <td>Lithonia Lighting All Season 4 ft. 2-Light Gre...</td>\n",
       "      <td>t8  2 bulb 4  troffers</td>\n",
       "      <td>2.00</td>\n",
       "      <td>The 4 ft. All Season shop light is ideal for g...</td>\n",
       "    </tr>\n",
       "    <tr>\n",
       "      <th>5238</th>\n",
       "      <td>16384</td>\n",
       "      <td>102893</td>\n",
       "      <td>Lithonia Lighting All Season 4 ft. 2-Light Gre...</td>\n",
       "      <td>t8 fluorescent bulbsu-bent</td>\n",
       "      <td>2.00</td>\n",
       "      <td>The 4 ft. All Season shop light is ideal for g...</td>\n",
       "    </tr>\n",
       "    <tr>\n",
       "      <th>5239</th>\n",
       "      <td>16386</td>\n",
       "      <td>102893</td>\n",
       "      <td>Lithonia Lighting All Season 4 ft. 2-Light Gre...</td>\n",
       "      <td>t8 light</td>\n",
       "      <td>2.67</td>\n",
       "      <td>The 4 ft. All Season shop light is ideal for g...</td>\n",
       "    </tr>\n",
       "    <tr>\n",
       "      <th>5240</th>\n",
       "      <td>16387</td>\n",
       "      <td>102893</td>\n",
       "      <td>Lithonia Lighting All Season 4 ft. 2-Light Gre...</td>\n",
       "      <td>t8 starcoat eco 32w</td>\n",
       "      <td>2.67</td>\n",
       "      <td>The 4 ft. All Season shop light is ideal for g...</td>\n",
       "    </tr>\n",
       "    <tr>\n",
       "      <th>5241</th>\n",
       "      <td>16388</td>\n",
       "      <td>102893</td>\n",
       "      <td>Lithonia Lighting All Season 4 ft. 2-Light Gre...</td>\n",
       "      <td>violet flourescent light</td>\n",
       "      <td>2.67</td>\n",
       "      <td>The 4 ft. All Season shop light is ideal for g...</td>\n",
       "    </tr>\n",
       "  </tbody>\n",
       "</table>\n",
       "</div>"
      ],
      "text/plain": [
       "         id  product_uid                                      product_title  \\\n",
       "5221  16352       102893  Lithonia Lighting All Season 4 ft. 2-Light Gre...   \n",
       "5222  16353       102893  Lithonia Lighting All Season 4 ft. 2-Light Gre...   \n",
       "5223  16356       102893  Lithonia Lighting All Season 4 ft. 2-Light Gre...   \n",
       "5224  16358       102893  Lithonia Lighting All Season 4 ft. 2-Light Gre...   \n",
       "5225  16360       102893  Lithonia Lighting All Season 4 ft. 2-Light Gre...   \n",
       "5226  16361       102893  Lithonia Lighting All Season 4 ft. 2-Light Gre...   \n",
       "5227  16363       102893  Lithonia Lighting All Season 4 ft. 2-Light Gre...   \n",
       "5228  16364       102893  Lithonia Lighting All Season 4 ft. 2-Light Gre...   \n",
       "5229  16365       102893  Lithonia Lighting All Season 4 ft. 2-Light Gre...   \n",
       "5230  16366       102893  Lithonia Lighting All Season 4 ft. 2-Light Gre...   \n",
       "5231  16367       102893  Lithonia Lighting All Season 4 ft. 2-Light Gre...   \n",
       "5232  16373       102893  Lithonia Lighting All Season 4 ft. 2-Light Gre...   \n",
       "5233  16374       102893  Lithonia Lighting All Season 4 ft. 2-Light Gre...   \n",
       "5234  16375       102893  Lithonia Lighting All Season 4 ft. 2-Light Gre...   \n",
       "5235  16376       102893  Lithonia Lighting All Season 4 ft. 2-Light Gre...   \n",
       "5236  16381       102893  Lithonia Lighting All Season 4 ft. 2-Light Gre...   \n",
       "5237  16382       102893  Lithonia Lighting All Season 4 ft. 2-Light Gre...   \n",
       "5238  16384       102893  Lithonia Lighting All Season 4 ft. 2-Light Gre...   \n",
       "5239  16386       102893  Lithonia Lighting All Season 4 ft. 2-Light Gre...   \n",
       "5240  16387       102893  Lithonia Lighting All Season 4 ft. 2-Light Gre...   \n",
       "5241  16388       102893  Lithonia Lighting All Season 4 ft. 2-Light Gre...   \n",
       "\n",
       "                     search_term  relevance  \\\n",
       "5221               4 flourescent       2.33   \n",
       "5222                 4 led light       3.00   \n",
       "5223                   4ft light       3.00   \n",
       "5224                     8 light       2.33   \n",
       "5225             cree led 32w t8       3.00   \n",
       "5226        econo florecent bulb       2.33   \n",
       "5227       florecent bulb holder       2.00   \n",
       "5228      flourescent shop light       3.00   \n",
       "5229         fluorescent fixture       2.33   \n",
       "5230     Fluorescent light TUBES       3.00   \n",
       "5231      Fluorescent Shop Light       3.00   \n",
       "5232              light fictures       2.00   \n",
       "5233    lihonia 4 led work light       2.67   \n",
       "5234             Shop lights led       2.67   \n",
       "5235                  t 5 lights       2.33   \n",
       "5236  t5 strip light fixture 36'       2.00   \n",
       "5237      t8  2 bulb 4  troffers       2.00   \n",
       "5238  t8 fluorescent bulbsu-bent       2.00   \n",
       "5239                    t8 light       2.67   \n",
       "5240         t8 starcoat eco 32w       2.67   \n",
       "5241    violet flourescent light       2.67   \n",
       "\n",
       "                                    product_description  \n",
       "5221  The 4 ft. All Season shop light is ideal for g...  \n",
       "5222  The 4 ft. All Season shop light is ideal for g...  \n",
       "5223  The 4 ft. All Season shop light is ideal for g...  \n",
       "5224  The 4 ft. All Season shop light is ideal for g...  \n",
       "5225  The 4 ft. All Season shop light is ideal for g...  \n",
       "5226  The 4 ft. All Season shop light is ideal for g...  \n",
       "5227  The 4 ft. All Season shop light is ideal for g...  \n",
       "5228  The 4 ft. All Season shop light is ideal for g...  \n",
       "5229  The 4 ft. All Season shop light is ideal for g...  \n",
       "5230  The 4 ft. All Season shop light is ideal for g...  \n",
       "5231  The 4 ft. All Season shop light is ideal for g...  \n",
       "5232  The 4 ft. All Season shop light is ideal for g...  \n",
       "5233  The 4 ft. All Season shop light is ideal for g...  \n",
       "5234  The 4 ft. All Season shop light is ideal for g...  \n",
       "5235  The 4 ft. All Season shop light is ideal for g...  \n",
       "5236  The 4 ft. All Season shop light is ideal for g...  \n",
       "5237  The 4 ft. All Season shop light is ideal for g...  \n",
       "5238  The 4 ft. All Season shop light is ideal for g...  \n",
       "5239  The 4 ft. All Season shop light is ideal for g...  \n",
       "5240  The 4 ft. All Season shop light is ideal for g...  \n",
       "5241  The 4 ft. All Season shop light is ideal for g...  "
      ]
     },
     "execution_count": 31,
     "metadata": {},
     "output_type": "execute_result"
    }
   ],
   "source": [
    "train.loc[train['product_title'] == 'Lithonia Lighting All Season 4 ft. 2-Light Grey T8 Strip Fluorescent Shop Light']"
   ]
  },
  {
   "cell_type": "code",
   "execution_count": 32,
   "id": "38bd3301",
   "metadata": {},
   "outputs": [
    {
     "data": {
      "text/html": [
       "<div>\n",
       "<style scoped>\n",
       "    .dataframe tbody tr th:only-of-type {\n",
       "        vertical-align: middle;\n",
       "    }\n",
       "\n",
       "    .dataframe tbody tr th {\n",
       "        vertical-align: top;\n",
       "    }\n",
       "\n",
       "    .dataframe thead th {\n",
       "        text-align: right;\n",
       "    }\n",
       "</style>\n",
       "<table border=\"1\" class=\"dataframe\">\n",
       "  <thead>\n",
       "    <tr style=\"text-align: right;\">\n",
       "      <th></th>\n",
       "      <th>product_uid</th>\n",
       "      <th>name</th>\n",
       "      <th>value</th>\n",
       "    </tr>\n",
       "  </thead>\n",
       "  <tbody>\n",
       "    <tr>\n",
       "      <th>71197</th>\n",
       "      <td>102893.0</td>\n",
       "      <td>Actual Color Temperature (K)</td>\n",
       "      <td>0</td>\n",
       "    </tr>\n",
       "    <tr>\n",
       "      <th>71198</th>\n",
       "      <td>102893.0</td>\n",
       "      <td>Bulb Type Included</td>\n",
       "      <td>No Bulbs Included</td>\n",
       "    </tr>\n",
       "    <tr>\n",
       "      <th>71199</th>\n",
       "      <td>102893.0</td>\n",
       "      <td>Bullet01</td>\n",
       "      <td>6 in. textured gray reflector with pull chain ...</td>\n",
       "    </tr>\n",
       "    <tr>\n",
       "      <th>71200</th>\n",
       "      <td>102893.0</td>\n",
       "      <td>Bullet02</td>\n",
       "      <td>Requires (2) 32-Watt T8 linear energy-efficien...</td>\n",
       "    </tr>\n",
       "    <tr>\n",
       "      <th>71201</th>\n",
       "      <td>102893.0</td>\n",
       "      <td>Bullet03</td>\n",
       "      <td>Fully assembled, ready-to-install with mountin...</td>\n",
       "    </tr>\n",
       "    <tr>\n",
       "      <th>71202</th>\n",
       "      <td>102893.0</td>\n",
       "      <td>Bullet04</td>\n",
       "      <td>Energy Star qualified, UL listed and title 24 ...</td>\n",
       "    </tr>\n",
       "    <tr>\n",
       "      <th>71203</th>\n",
       "      <td>102893.0</td>\n",
       "      <td>Bullet05</td>\n",
       "      <td>Starts reliably down to 0°s F</td>\n",
       "    </tr>\n",
       "    <tr>\n",
       "      <th>71204</th>\n",
       "      <td>102893.0</td>\n",
       "      <td>Bullet06</td>\n",
       "      <td>2 year warranty</td>\n",
       "    </tr>\n",
       "    <tr>\n",
       "      <th>71205</th>\n",
       "      <td>102893.0</td>\n",
       "      <td>Certifications and Listings</td>\n",
       "      <td>1-UL Listed</td>\n",
       "    </tr>\n",
       "    <tr>\n",
       "      <th>71206</th>\n",
       "      <td>102893.0</td>\n",
       "      <td>Collection Name</td>\n",
       "      <td>Shoplight</td>\n",
       "    </tr>\n",
       "    <tr>\n",
       "      <th>71207</th>\n",
       "      <td>102893.0</td>\n",
       "      <td>Color Rendering Index</td>\n",
       "      <td>85</td>\n",
       "    </tr>\n",
       "    <tr>\n",
       "      <th>71208</th>\n",
       "      <td>102893.0</td>\n",
       "      <td>Commercial Light Type</td>\n",
       "      <td>Strip</td>\n",
       "    </tr>\n",
       "    <tr>\n",
       "      <th>71209</th>\n",
       "      <td>102893.0</td>\n",
       "      <td>Dimmable</td>\n",
       "      <td>No</td>\n",
       "    </tr>\n",
       "    <tr>\n",
       "      <th>71210</th>\n",
       "      <td>102893.0</td>\n",
       "      <td>ENERGY STAR Certified</td>\n",
       "      <td>Yes</td>\n",
       "    </tr>\n",
       "    <tr>\n",
       "      <th>71211</th>\n",
       "      <td>102893.0</td>\n",
       "      <td>Fixture Color/Finish</td>\n",
       "      <td>Grey</td>\n",
       "    </tr>\n",
       "    <tr>\n",
       "      <th>71212</th>\n",
       "      <td>102893.0</td>\n",
       "      <td>Fixture Color/Finish Family</td>\n",
       "      <td>Stainless Steel</td>\n",
       "    </tr>\n",
       "    <tr>\n",
       "      <th>71213</th>\n",
       "      <td>102893.0</td>\n",
       "      <td>Hardware Included</td>\n",
       "      <td>Yes</td>\n",
       "    </tr>\n",
       "    <tr>\n",
       "      <th>71214</th>\n",
       "      <td>102893.0</td>\n",
       "      <td>Hood width (in.)</td>\n",
       "      <td>16</td>\n",
       "    </tr>\n",
       "    <tr>\n",
       "      <th>71215</th>\n",
       "      <td>102893.0</td>\n",
       "      <td>Hooded</td>\n",
       "      <td>Yes</td>\n",
       "    </tr>\n",
       "    <tr>\n",
       "      <th>71216</th>\n",
       "      <td>102893.0</td>\n",
       "      <td>Length/circumference (in.)</td>\n",
       "      <td>48</td>\n",
       "    </tr>\n",
       "    <tr>\n",
       "      <th>71217</th>\n",
       "      <td>102893.0</td>\n",
       "      <td>Light Bulb Base Code</td>\n",
       "      <td>Twist Lock</td>\n",
       "    </tr>\n",
       "    <tr>\n",
       "      <th>71218</th>\n",
       "      <td>102893.0</td>\n",
       "      <td>Maximum Wattage (watts)</td>\n",
       "      <td>0</td>\n",
       "    </tr>\n",
       "    <tr>\n",
       "      <th>71219</th>\n",
       "      <td>102893.0</td>\n",
       "      <td>MFG Brand Name</td>\n",
       "      <td>Lithonia Lighting</td>\n",
       "    </tr>\n",
       "    <tr>\n",
       "      <th>71220</th>\n",
       "      <td>102893.0</td>\n",
       "      <td>Number of Bulbs Required</td>\n",
       "      <td>2</td>\n",
       "    </tr>\n",
       "    <tr>\n",
       "      <th>71221</th>\n",
       "      <td>102893.0</td>\n",
       "      <td>Product Depth (in.)</td>\n",
       "      <td>51</td>\n",
       "    </tr>\n",
       "    <tr>\n",
       "      <th>71222</th>\n",
       "      <td>102893.0</td>\n",
       "      <td>Product Height (in.)</td>\n",
       "      <td>3</td>\n",
       "    </tr>\n",
       "    <tr>\n",
       "      <th>71223</th>\n",
       "      <td>102893.0</td>\n",
       "      <td>Product Weight (lb.)</td>\n",
       "      <td>7 lb</td>\n",
       "    </tr>\n",
       "    <tr>\n",
       "      <th>71224</th>\n",
       "      <td>102893.0</td>\n",
       "      <td>Product Width (in.)</td>\n",
       "      <td>7</td>\n",
       "    </tr>\n",
       "  </tbody>\n",
       "</table>\n",
       "</div>"
      ],
      "text/plain": [
       "       product_uid                          name  \\\n",
       "71197     102893.0  Actual Color Temperature (K)   \n",
       "71198     102893.0            Bulb Type Included   \n",
       "71199     102893.0                      Bullet01   \n",
       "71200     102893.0                      Bullet02   \n",
       "71201     102893.0                      Bullet03   \n",
       "71202     102893.0                      Bullet04   \n",
       "71203     102893.0                      Bullet05   \n",
       "71204     102893.0                      Bullet06   \n",
       "71205     102893.0   Certifications and Listings   \n",
       "71206     102893.0               Collection Name   \n",
       "71207     102893.0         Color Rendering Index   \n",
       "71208     102893.0         Commercial Light Type   \n",
       "71209     102893.0                      Dimmable   \n",
       "71210     102893.0         ENERGY STAR Certified   \n",
       "71211     102893.0          Fixture Color/Finish   \n",
       "71212     102893.0   Fixture Color/Finish Family   \n",
       "71213     102893.0             Hardware Included   \n",
       "71214     102893.0              Hood width (in.)   \n",
       "71215     102893.0                        Hooded   \n",
       "71216     102893.0    Length/circumference (in.)   \n",
       "71217     102893.0          Light Bulb Base Code   \n",
       "71218     102893.0       Maximum Wattage (watts)   \n",
       "71219     102893.0                MFG Brand Name   \n",
       "71220     102893.0      Number of Bulbs Required   \n",
       "71221     102893.0           Product Depth (in.)   \n",
       "71222     102893.0          Product Height (in.)   \n",
       "71223     102893.0          Product Weight (lb.)   \n",
       "71224     102893.0           Product Width (in.)   \n",
       "\n",
       "                                                   value  \n",
       "71197                                                  0  \n",
       "71198                                  No Bulbs Included  \n",
       "71199  6 in. textured gray reflector with pull chain ...  \n",
       "71200  Requires (2) 32-Watt T8 linear energy-efficien...  \n",
       "71201  Fully assembled, ready-to-install with mountin...  \n",
       "71202  Energy Star qualified, UL listed and title 24 ...  \n",
       "71203                      Starts reliably down to 0°s F  \n",
       "71204                                    2 year warranty  \n",
       "71205                                        1-UL Listed  \n",
       "71206                                          Shoplight  \n",
       "71207                                                 85  \n",
       "71208                                              Strip  \n",
       "71209                                                 No  \n",
       "71210                                                Yes  \n",
       "71211                                               Grey  \n",
       "71212                                    Stainless Steel  \n",
       "71213                                                Yes  \n",
       "71214                                                 16  \n",
       "71215                                                Yes  \n",
       "71216                                                 48  \n",
       "71217                                         Twist Lock  \n",
       "71218                                                  0  \n",
       "71219                                  Lithonia Lighting  \n",
       "71220                                                  2  \n",
       "71221                                                 51  \n",
       "71222                                                  3  \n",
       "71223                                               7 lb  \n",
       "71224                                                  7  "
      ]
     },
     "execution_count": 32,
     "metadata": {},
     "output_type": "execute_result"
    }
   ],
   "source": [
    "attributes.loc[attributes['product_uid'] == 102893]"
   ]
  },
  {
   "cell_type": "code",
   "execution_count": 33,
   "id": "bd495d07",
   "metadata": {},
   "outputs": [
    {
     "data": {
      "text/plain": [
       "5409"
      ]
     },
     "execution_count": 33,
     "metadata": {},
     "output_type": "execute_result"
    }
   ],
   "source": [
    "# check how many different attributes we have\n",
    "len(set(attributes['name']))"
   ]
  },
  {
   "cell_type": "code",
   "execution_count": 34,
   "id": "b6c304e4",
   "metadata": {},
   "outputs": [
    {
     "data": {
      "text/plain": [
       "Bullet02                       86248\n",
       "Bullet03                       86226\n",
       "MFG Brand Name                 86185\n",
       "Bullet04                       86174\n",
       "Bullet01                       85940\n",
       "Product Width (in.)            61137\n",
       "Bullet05                       60528\n",
       "Product Height (in.)           54698\n",
       "Product Depth (in.)            53652\n",
       "Product Weight (lb.)           45175\n",
       "Bullet06                       44901\n",
       "Color Family                   41508\n",
       "Bullet07                       34349\n",
       "Material                       31499\n",
       "Color/Finish                   28539\n",
       "Bullet08                       26645\n",
       "Certifications and Listings    24583\n",
       "Bullet09                       20567\n",
       "Assembled Height (in.)         18299\n",
       "Assembled Width (in.)          18263\n",
       "Assembled Depth (in.)          18198\n",
       "Product Length (in.)           16705\n",
       "Bullet10                       14763\n",
       "Indoor/Outdoor                 12939\n",
       "Bullet11                       11784\n",
       "Name: name, dtype: int64"
      ]
     },
     "execution_count": 34,
     "metadata": {},
     "output_type": "execute_result"
    }
   ],
   "source": [
    "# brand, bullets, dimensions and colors are main attributes\n",
    "attributes['name'].value_counts()[:25]"
   ]
  },
  {
   "cell_type": "code",
   "execution_count": 35,
   "id": "49246a9a",
   "metadata": {},
   "outputs": [
    {
     "data": {
      "text/plain": [
       "array(['Bullet01', 'Bullet02', 'Bullet03', 'Bullet04', 'Bullet05',\n",
       "       'Bullet06', 'Bullet07', 'Bullet08', 'Bullet10', 'Bullet18',\n",
       "       'Bullet09', 'Bullet11', 'Bullet12', 'Bullet13', 'Bullet14',\n",
       "       'Bullet15', 'Bullet16', 'Bullet17', 'Bullet20', 'Bullet21',\n",
       "       'Bullet Proof', 'Bullet19', 'Bullet22'], dtype=object)"
      ]
     },
     "execution_count": 35,
     "metadata": {},
     "output_type": "execute_result"
    }
   ],
   "source": [
    "attributes[attributes['name'].str.contains(\"Bullet\")].name.unique()"
   ]
  },
  {
   "cell_type": "code",
   "execution_count": 36,
   "id": "d345933e",
   "metadata": {},
   "outputs": [
    {
     "data": {
      "text/plain": [
       "Color Family                    41508\n",
       "Color/Finish                    28539\n",
       "Color                            6212\n",
       "Color/Finish Family              4630\n",
       "Fixture Color/Finish             4117\n",
       "Fixture Color/Finish Family      2256\n",
       "Shade Color Family               2006\n",
       "Actual Color Temperature (K)     1421\n",
       "Color Rendering Index            1118\n",
       "Top Color Family                  996\n",
       "Name: name, dtype: int64"
      ]
     },
     "execution_count": 36,
     "metadata": {},
     "output_type": "execute_result"
    }
   ],
   "source": [
    "attributes[attributes['name'].str.contains(\"Color\")].name.value_counts()[:10]"
   ]
  },
  {
   "cell_type": "code",
   "execution_count": 37,
   "id": "329dd1a5",
   "metadata": {},
   "outputs": [
    {
     "data": {
      "text/plain": [
       "array(['Vinyl Plank', 'Area Rug', 'Vinyl Tile', 'Porcelain Tile',\n",
       "       'Mosaic Tile', 'Roll Runner', 'Tile Sample', 'Ceramic Tile',\n",
       "       'Vinyl Tool', 'Vinyl Sheet', 'Backer Board',\n",
       "       'Decorative Accent & Border', 'Carpet', 'Accessory',\n",
       "       'Underlayment', 'Rug Pad', 'Solid Bamboo Board', 'Stair Tread',\n",
       "       'Door Mat', 'Solid Wood Moulding/Trim', 'Carpet Padding/Gripper',\n",
       "       'Tile Tool', 'Ceramic Floor/Wall Tile', 'Artificial Turf',\n",
       "       'Engineered Wood Moulding/Trim', 'Laminate Wood Plank',\n",
       "       'Engineered Click Wood', 'Marble Tile', 'Solid Wood Board',\n",
       "       'Vinyl Moulding/ Trim', 'Tool', 'Limestone Tile',\n",
       "       'Travertine Tile', 'Commercial Mat', 'Cove Base', 'Slate Tile',\n",
       "       'Glass Tile', 'Garage Floor Roll', 'Transition Strips',\n",
       "       'Garage Floor Accessory', 'Vinyl Flooring Sample',\n",
       "       'Patching/Repair', 'Tile Edging', 'Flooring Tape',\n",
       "       'Laminate Moulding/Trim', 'Laminate Sample', 'Pebble Tile',\n",
       "       'Bath Mat', 'Engineered Wood Board', 'Unbound Remnant',\n",
       "       'Flooring Adhesive', 'Garage Floor Tile',\n",
       "       'Gym/Excercise Rubber Tile', 'Hardwood Flooring Sample',\n",
       "       'Laminate Tile/Stone Plank', 'Artificial Green or Turf Accessory',\n",
       "       'Underfloor Heating', 'Metal Tile', 'Laminate Tool', 'Primer',\n",
       "       'Carpet Protector', 'Grout', 'Cork Tile', 'Nail Gun',\n",
       "       'Porcelain Floor/Wall Tile', 'Comfort Mat', 'Polish',\n",
       "       'Flooring Polish', 'Granite Tile', 'Hardwood Tool',\n",
       "       'Flooring Admixture', 'Hearth Mat', 'Flooring Powder Mortar',\n",
       "       'Tack Strip', 'Custom Bound Rug', 'Ceramic Tile Accent/Trim',\n",
       "       'Scatter/Accent Rug', 'Interlocking Gym Floor Tile', 'Carpet Tool',\n",
       "       'Solid Cork Board', 'Bath Rug', 'Office Chair Mat',\n",
       "       'Hardwood Moulding/Trim', 'Stair Rod', 'Clay Tile',\n",
       "       'Carpet Adhesive', 'Hardwood Decorative Inlay',\n",
       "       'Ceramic Wall Tile', 'Gym/Excercise Rubber Sheet',\n",
       "       'Sandstone Tile', 'Kitchen Mat', 'Onyx Tile', 'Kid Mat'],\n",
       "      dtype=object)"
      ]
     },
     "execution_count": 37,
     "metadata": {},
     "output_type": "execute_result"
    }
   ],
   "source": [
    "attributes[attributes['name'].str.contains(\"Flooring Product Type\")].value.unique()"
   ]
  },
  {
   "cell_type": "code",
   "execution_count": 57,
   "id": "f2e32227",
   "metadata": {},
   "outputs": [],
   "source": [
    "train['number_of_search_words'] = train['search_term'].str.split().apply(len)"
   ]
  },
  {
   "cell_type": "code",
   "execution_count": 58,
   "id": "3f16305d",
   "metadata": {},
   "outputs": [],
   "source": [
    "test['number_of_search_words'] = test['search_term'].str.split().apply(len)"
   ]
  },
  {
   "cell_type": "code",
   "execution_count": 40,
   "id": "cb819bba",
   "metadata": {},
   "outputs": [
    {
     "data": {
      "text/plain": [
       "3     26575\n",
       "2     18386\n",
       "4     14847\n",
       "5      6601\n",
       "1      4503\n",
       "6      2076\n",
       "7       741\n",
       "8       204\n",
       "9        80\n",
       "11       31\n",
       "10       10\n",
       "12        9\n",
       "14        4\n",
       "Name: number_of_search_words, dtype: int64"
      ]
     },
     "execution_count": 40,
     "metadata": {},
     "output_type": "execute_result"
    }
   ],
   "source": [
    "train.number_of_search_words.value_counts()"
   ]
  },
  {
   "cell_type": "code",
   "execution_count": 41,
   "id": "02e3e8ad",
   "metadata": {},
   "outputs": [
    {
     "data": {
      "text/plain": [
       "3     56420\n",
       "2     51329\n",
       "4     28100\n",
       "1     12772\n",
       "5     12004\n",
       "6      4004\n",
       "7      1241\n",
       "8       469\n",
       "9       145\n",
       "10      104\n",
       "12       54\n",
       "11       46\n",
       "14        4\n",
       "13        1\n",
       "Name: number_of_search_words, dtype: int64"
      ]
     },
     "execution_count": 41,
     "metadata": {},
     "output_type": "execute_result"
    }
   ],
   "source": [
    "test.number_of_search_words.value_counts()"
   ]
  },
  {
   "cell_type": "code",
   "execution_count": 42,
   "id": "897c23bb",
   "metadata": {},
   "outputs": [
    {
     "data": {
      "image/png": "[encoded data removed]",
      "text/plain": [
       "<Figure size 432x288 with 1 Axes>"
      ]
     },
     "metadata": {
      "needs_background": "light"
     },
     "output_type": "display_data"
    }
   ],
   "source": [
    "fig = plt.figure()\n",
    "ax = fig.add_axes([0,0,1.5,1.5])\n",
    "bins = np.linspace(0, 14, 30)\n",
    "ax.hist([train['number_of_search_words'], test['number_of_search_words']], bins, width = 0.25, label=['train', 'test'])\n",
    "plt.legend(loc='upper right')\n",
    "plt.xlabel('Number of search words')\n",
    "plt.ylabel('Frequency')\n",
    "plt.title('Frequency by number of search words')\n",
    "plt.show()"
   ]
  },
  {
   "cell_type": "code",
   "execution_count": 43,
   "id": "9df70dff",
   "metadata": {},
   "outputs": [
    {
     "data": {
      "text/plain": [
       "<matplotlib.axes._axes.Axes at 0x1202a2bb0>"
      ]
     },
     "execution_count": 43,
     "metadata": {},
     "output_type": "execute_result"
    },
    {
     "data": {
      "image/png": "[encoded data removed]",
      "text/plain": [
       "<Figure size 432x288 with 1 Axes>"
      ]
     },
     "metadata": {
      "needs_background": "light"
     },
     "output_type": "display_data"
    }
   ],
   "source": [
    "validData = train[train[\"relevance\"].isin([1.0, 1.33, 1.67, 2.0, 2.33, 2.67, 3.0])]\n",
    "fig = plt.figure()\n",
    "ax = fig.add_axes([0,0,2,2])\n",
    "sns.boxplot(x=\"relevance\", y=\"number_of_search_words\", data=validData, showmeans=True, ax=ax)"
   ]
  },
  {
   "cell_type": "code",
   "execution_count": 44,
   "id": "874d59bd",
   "metadata": {},
   "outputs": [
    {
     "data": {
      "text/plain": [
       "<matplotlib.axes._axes.Axes at 0x124957640>"
      ]
     },
     "execution_count": 44,
     "metadata": {},
     "output_type": "execute_result"
    },
    {
     "data": {
      "image/png": "[encoded data removed]",
      "text/plain": [
       "<Figure size 432x288 with 1 Axes>"
      ]
     },
     "metadata": {
      "needs_background": "light"
     },
     "output_type": "display_data"
    }
   ],
   "source": [
    "validData = train[(train[\"relevance\"].isin([1.0, 1.33, 1.67, 2.0, 2.33, 2.67, 3.0])) & (train[\"number_of_search_words\"] < 9)]\n",
    "fig = plt.figure()\n",
    "ax = fig.add_axes([0,0,2,2])\n",
    "sns.boxplot(x=\"number_of_search_words\", y=\"relevance\", data=validData, showmeans=True, ax=ax)"
   ]
  },
  {
   "cell_type": "code",
   "execution_count": 45,
   "id": "123b0db0",
   "metadata": {},
   "outputs": [],
   "source": [
    "dataWithAttributes = list(set(pidTrain) & set(pidAttributes))"
   ]
  },
  {
   "cell_type": "code",
   "execution_count": 46,
   "id": "3350107c",
   "metadata": {},
   "outputs": [],
   "source": [
    "dfWithAttributes = train[train[\"product_uid\"].isin(dataWithAttributes)]"
   ]
  },
  {
   "cell_type": "code",
   "execution_count": 47,
   "id": "da1d8caf",
   "metadata": {},
   "outputs": [],
   "source": [
    "dfWithoutAttributes = train[~train[\"product_uid\"].isin(dataWithAttributes)]"
   ]
  },
  {
   "cell_type": "code",
   "execution_count": 48,
   "id": "35211391",
   "metadata": {},
   "outputs": [
    {
     "data": {
      "text/plain": [
       "Text(0.5, 0, 'Not Existing')"
      ]
     },
     "execution_count": 48,
     "metadata": {},
     "output_type": "execute_result"
    },
    {
     "data": {
      "image/png": "[encoded data removed]",
      "text/plain": [
       "<Figure size 432x288 with 2 Axes>"
      ]
     },
     "metadata": {
      "needs_background": "light"
     },
     "output_type": "display_data"
    }
   ],
   "source": [
    "fig, axes = plt.subplots(1, 2, sharey=True)\n",
    "fig.suptitle('Relevance depends on product attributes')\n",
    "sns.boxplot(y=\"relevance\", data=dfWithAttributes, showmeans=True, ax=axes[0])\n",
    "axes[0].set_xlabel('Existing')\n",
    "sns.boxplot(y=\"relevance\", data=dfWithoutAttributes, showmeans=True, ax=axes[1])\n",
    "axes[1].set_xlabel('Not Existing')"
   ]
  },
  {
   "cell_type": "code",
   "execution_count": 49,
   "id": "628de4c3",
   "metadata": {},
   "outputs": [
    {
     "data": {
      "text/plain": [
       "White                3988\n",
       "Black                1514\n",
       "Stainless Steel      1024\n",
       "Chrome                976\n",
       "Gray                  465\n",
       "Brushed Nickel        450\n",
       "Oil Rubbed Bronze     369\n",
       "Polished Chrome       365\n",
       "Primed White          324\n",
       "Brown                 308\n",
       "Name: value, dtype: int64"
      ]
     },
     "execution_count": 49,
     "metadata": {},
     "output_type": "execute_result"
    }
   ],
   "source": [
    "attributes[attributes['name'] == 'Color/Finish'].value.value_counts()[:10]"
   ]
  },
  {
   "cell_type": "code",
   "execution_count": 59,
   "id": "ee99f8ae",
   "metadata": {},
   "outputs": [],
   "source": [
    "# create dictionary with words from product titles and descriptions and create a function that will use this dictionary to fix some typos\n",
    "def words(text): return re.findall(r'\\w+', text.lower())\n",
    "\n",
    "WORDS = Counter(words(train.product_title.to_string() + test.product_title.to_string() + descriptions.product_description.to_string()))\n",
    "\n",
    "def P(word, N=sum(WORDS.values())): \n",
    "    \"Probability of `word`.\"\n",
    "    return WORDS[word] / N\n",
    "\n",
    "def correction(word): \n",
    "    \"Most probable spelling correction for word.\"\n",
    "    return max(candidates(word), key=P)\n",
    "\n",
    "def candidates(word): \n",
    "    \"Generate possible spelling corrections for word.\"\n",
    "    return (known([word]) or known(edits1(word)) or known(edits2(word)) or [word])\n",
    "\n",
    "def known(words): \n",
    "    \"The subset of `words` that appear in the dictionary of WORDS.\"\n",
    "    return set(w for w in words if w in WORDS)\n",
    "\n",
    "def edits1(word):\n",
    "    \"All edits that are one edit away from `word`.\"\n",
    "    letters    = 'abcdefghijklmnopqrstuvwxyz'\n",
    "    splits     = [(word[:i], word[i:])    for i in range(len(word) + 1)]\n",
    "    deletes    = [L + R[1:]               for L, R in splits if R]\n",
    "    transposes = [L + R[1] + R[0] + R[2:] for L, R in splits if len(R)>1]\n",
    "    replaces   = [L + c + R[1:]           for L, R in splits if R for c in letters]\n",
    "    inserts    = [L + c + R               for L, R in splits for c in letters]\n",
    "    return set(deletes + transposes + replaces + inserts)\n",
    "\n",
    "def edits2(word): \n",
    "    \"All edits that are two edits away from `word`.\"\n",
    "    return (e2 for e1 in edits1(word) for e2 in edits1(e1))"
   ]
  },
  {
   "cell_type": "code",
   "execution_count": 60,
   "id": "9c3efb02",
   "metadata": {},
   "outputs": [],
   "source": [
    "# apply function from above to search_term column\n",
    "def correct_spelling_in_search(row):\n",
    "    search_list = nltk.word_tokenize(row.search_term)\n",
    "    corrected_search = \"\";\n",
    "    for word in search_list:\n",
    "        corrected_search = corrected_search + \" \" + correction(word)\n",
    "    return corrected_search.lstrip()"
   ]
  },
  {
   "cell_type": "code",
   "execution_count": 61,
   "id": "8f5b9933",
   "metadata": {},
   "outputs": [],
   "source": [
    "train['search_term'] = train.apply(lambda row: correct_spelling_in_search(row), axis=1)"
   ]
  },
  {
   "cell_type": "code",
   "execution_count": 62,
   "id": "ab605be4",
   "metadata": {},
   "outputs": [],
   "source": [
    "test['search_term'] = test.apply(lambda row: correct_spelling_in_search(row), axis=1)"
   ]
  },
  {
   "cell_type": "code",
   "execution_count": 63,
   "id": "cec541cd",
   "metadata": {},
   "outputs": [],
   "source": [
    "# calculate ratio of words in search that are from product title\n",
    "def calculate_percentage_in_title(row):\n",
    "    product_title = re.sub('([a-z])([A-Z])', r'\\1 \\2', row.product_title).replace(\"-\", \" \").lower()\n",
    "    search = re.sub('([a-z])([A-Z])', r'\\1 \\2', row.search_term).lower()\n",
    "    search_words = nltk.word_tokenize(search)\n",
    "    product_title_words = nltk.word_tokenize(product_title)\n",
    "    return len(list(set(search_words) & set(product_title_words)))/len(search_words)"
   ]
  },
  {
   "cell_type": "code",
   "execution_count": 64,
   "id": "eba10c46",
   "metadata": {},
   "outputs": [],
   "source": [
    "# calculate ratio of words in search that are from product description\n",
    "def calculate_percentage_in_description(row):\n",
    "    description = re.sub('([a-z])([A-Z])', r'\\1 \\2', row.product_description).replace(\"-\", \" \").lower()\n",
    "    search = re.sub('([a-z])([A-Z])', r'\\1 \\2', row.search_term).lower()\n",
    "    search_words = nltk.word_tokenize(search)\n",
    "    product_description_words = nltk.word_tokenize(description)\n",
    "    return len(list(set(search_words) & set(product_description_words)))/len(search_words)"
   ]
  },
  {
   "cell_type": "code",
   "execution_count": 65,
   "id": "e75dce8b",
   "metadata": {},
   "outputs": [],
   "source": [
    "train['%_search_words_in_title'] = train.apply(lambda row: calculate_percentage_in_title(row), axis=1)"
   ]
  },
  {
   "cell_type": "code",
   "execution_count": 66,
   "id": "f803faad",
   "metadata": {},
   "outputs": [],
   "source": [
    "train['%_search_words_in_description'] = train.apply(lambda row: calculate_percentage_in_description(row), axis=1)"
   ]
  },
  {
   "cell_type": "code",
   "execution_count": 67,
   "id": "1e9c97de",
   "metadata": {},
   "outputs": [],
   "source": [
    "test['%_search_words_in_title'] = test.apply(lambda row: calculate_percentage_in_title(row), axis=1)"
   ]
  },
  {
   "cell_type": "code",
   "execution_count": 68,
   "id": "77328080",
   "metadata": {},
   "outputs": [],
   "source": [
    "test['%_search_words_in_description'] = test.apply(lambda row: calculate_percentage_in_description(row), axis=1)"
   ]
  },
  {
   "cell_type": "code",
   "execution_count": 69,
   "id": "47b2782f",
   "metadata": {},
   "outputs": [],
   "source": [
    "df_brand = attributes[attributes.name == \"MFG Brand Name\"][[\"product_uid\", \"value\"]].rename(columns={\"value\": \"brand\"})"
   ]
  },
  {
   "cell_type": "code",
   "execution_count": 70,
   "id": "502e3b18",
   "metadata": {},
   "outputs": [],
   "source": [
    "train = pd.merge(train, df_brand, how='left', on='product_uid')\n",
    "test = pd.merge(test, df_brand, how='left', on='product_uid')"
   ]
  },
  {
   "cell_type": "code",
   "execution_count": 71,
   "id": "c5349e5f",
   "metadata": {},
   "outputs": [],
   "source": [
    "import sklearn\n",
    "from sklearn.ensemble import RandomForestRegressor, BaggingRegressor\n",
    "from sklearn.tree import DecisionTreeRegressor\n",
    "from sklearn.model_selection import GridSearchCV\n",
    "import xgboost as xgb"
   ]
  },
  {
   "cell_type": "code",
   "execution_count": 72,
   "id": "bdbf53d1",
   "metadata": {},
   "outputs": [],
   "source": [
    "X_train = train[['product_uid','number_of_search_words', '%_search_words_in_title', '%_search_words_in_description']].values\n",
    "y_train = train['relevance'].values\n",
    "X_test = test[['product_uid','number_of_search_words', '%_search_words_in_title', '%_search_words_in_description']].values"
   ]
  },
  {
   "cell_type": "code",
   "execution_count": 73,
   "id": "bd8a2f1e",
   "metadata": {},
   "outputs": [],
   "source": [
    "# after investigation Bagging Regressor with base estimator = Random Forest show best result so we will use it for parameter tuning\n",
    "rf = RandomForestRegressor(n_estimators=15, max_depth=6, random_state=0)\n",
    "dt = DecisionTreeRegressor(max_depth=6, random_state=3)\n",
    "clf = BaggingRegressor(rf, n_estimators=45, max_samples=0.1, random_state=25)"
   ]
  },
  {
   "cell_type": "code",
   "execution_count": 74,
   "id": "ec3ce326",
   "metadata": {},
   "outputs": [],
   "source": [
    "params = {'n_estimators': [25, 50, 75, 100], 'max_samples': [0.075, 0.1, 0.15, 0.2], 'base_estimator': [dt, rf]}"
   ]
  },
  {
   "cell_type": "code",
   "execution_count": 75,
   "id": "9b31b14f",
   "metadata": {},
   "outputs": [],
   "source": [
    "bagging_regressor_grid = GridSearchCV(BaggingRegressor(), param_grid = params, cv = 5, scoring = 'neg_root_mean_squared_error')"
   ]
  },
  {
   "cell_type": "code",
   "execution_count": 76,
   "id": "9c35ef15",
   "metadata": {},
   "outputs": [
    {
     "name": "stdout",
     "output_type": "stream",
     "text": [
      "Best R^2 Score Through Grid Search : -0.497\n",
      "Best Parameters :  {'base_estimator': RandomForestRegressor(max_depth=6, n_estimators=15, random_state=0), 'max_samples': 0.075, 'n_estimators': 75}\n"
     ]
    }
   ],
   "source": [
    "bagging_regressor_grid.fit(X_train, y_train)\n",
    "print('Best R^2 Score Through Grid Search : %.3f'%bagging_regressor_grid.best_score_)\n",
    "print('Best Parameters : ',bagging_regressor_grid.best_params_)"
   ]
  },
  {
   "cell_type": "code",
   "execution_count": 77,
   "id": "a36df3d6",
   "metadata": {},
   "outputs": [],
   "source": [
    "clf = bagging_regressor_grid.best_estimator_"
   ]
  },
  {
   "cell_type": "code",
   "execution_count": 78,
   "id": "58c8f42a",
   "metadata": {},
   "outputs": [],
   "source": [
    "y_pred = clf.predict(X_test)"
   ]
  },
  {
   "cell_type": "code",
   "execution_count": 79,
   "id": "69af8329",
   "metadata": {},
   "outputs": [],
   "source": [
    "id_test = test['id']"
   ]
  },
  {
   "cell_type": "code",
   "execution_count": 80,
   "id": "6199f64f",
   "metadata": {},
   "outputs": [],
   "source": [
    "pd.DataFrame({\"id\": id_test, \"relevance\": y_pred}).to_csv('final_submission.csv',index=False)"
   ]
  }
 ],
 "metadata": {
  "kernelspec": {
   "display_name": "Python 3",
   "language": "python",
   "name": "python3"
  },
  "language_info": {
   "codemirror_mode": {
    "name": "ipython",
    "version": 3
   },
   "file_extension": ".py",
   "mimetype": "text/x-python",
   "name": "python",
   "nbconvert_exporter": "python",
   "pygments_lexer": "ipython3",
   "version": "3.8.8"
  }
 },
 "nbformat": 4,
 "nbformat_minor": 5
}
